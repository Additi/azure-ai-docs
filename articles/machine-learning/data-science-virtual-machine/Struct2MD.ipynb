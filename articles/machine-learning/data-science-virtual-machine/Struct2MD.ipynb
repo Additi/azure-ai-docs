{
 "cells": [
  {
   "cell_type": "markdown",
   "metadata": {},
   "source": [
    "# Generate Markdown for Tools Based On Single Datasource"
   ]
  },
  {
   "cell_type": "code",
   "execution_count": 14,
   "metadata": {},
   "outputs": [],
   "source": [
    "type VirtualMachine = Windows2016 | Linux2016 | Windows2019 | Linux18"
   ]
  },
  {
   "cell_type": "code",
   "execution_count": 15,
   "metadata": {},
   "outputs": [],
   "source": [
    "type Category = DataPlatforms | DataScience | MLFrameworks | Productivity | Development | Enterprise | ExploreVisualize | Ingestion | Languages"
   ]
  },
  {
   "cell_type": "code",
   "execution_count": 16,
   "metadata": {},
   "outputs": [],
   "source": [
    "type tool = { \n",
    "    name : string; \n",
    "    category : Category;\n",
    "    version : string;\n",
    "    what_is_it : string option;\n",
    "    supported_dsvms : string option;\n",
    "    typical_uses : string option;\n",
    "    samples : string option;\n",
    "    related_tools : string option;\n",
    "    how_installed : string option;\n",
    "    how_run : string option;\n",
    "    notes : string option;\n",
    "}"
   ]
  },
  {
   "cell_type": "code",
   "execution_count": 17,
   "metadata": {},
   "outputs": [],
   "source": [
    "let to_m (t : tool) = \n",
    "    let to_s (so : string option) (fn : string->string) = so |> Option.bind (fun s -> fn s |> Some)\n",
    "    let a = to_s (Some t.name) (fun s -> sprintf \"## %s\\n\" s) \n",
    "    let b = to_s t.what_is_it (fun s -> sprintf \"| What is it? | %s |\" s)\n",
    "    let c = to_s t.supported_dsvms (fun s -> sprintf \"| Supported DSVM Versions | %s |\" s)\n",
    "    let d = to_s t.typical_uses (fun s -> sprintf \"| Typical Uses | %s |\" s)\n",
    "    let e = to_s t.samples (fun s -> sprintf \"| Samples | %s |\" s) \n",
    "    let f = to_s t.related_tools (fun s -> sprintf \"| Related Tools | %s |\" s)\n",
    "    let g = to_s t.how_installed (fun s -> sprintf \"| How is it configured and installed on the DSVM? | %s |\" s)\n",
    "    let h = to_s t.how_run (fun s -> sprintf \"| How to run and use it | %s |\" s)\n",
    "    let i = to_s t.notes (fun s -> sprintf \"\\n%s\" s)\n",
    "    [a;b;c;d;e;f;g;h;i] |> List.choose id |> String.concat \"\\n\""
   ]
  },
  {
   "cell_type": "code",
   "execution_count": 18,
   "metadata": {},
   "outputs": [],
   "source": [
    "let vs = { \n",
    "    name = \"Visual Studio Community 2019\";\n",
    "    category = Development\n",
    "    version = \"Community 2019\";\n",
    "    what_is_it = Some \"General purpose IDE\";\n",
    "    supported_dsvms = Some \"Windows\";\n",
    "    typical_uses = Some \"Software development\";\n",
    "    samples = None;\n",
    "    how_installed = Some \"\"\"Data Science Workload (Python and R tools), Azure workload (Hadoop, Data Lake), Node.js, SQL Server tools, [Azure Machine Learning for Visual Studio Code](https://github.com/Microsoft/vs-tools-for-ai) \"\"\";\n",
    "    how_run = Some \"\"\"Desktop shortcut (`C:\\Program Files (x86)\\Microsoft Visual Studio\\2019\\Community\\Common7\\IDE\\devenv.exe`). Graphically, open Visual Studio by using the desktop icon or the **Start** menu. Search for programs (Windows logo key+S), followed by **Visual Studio**. From there, you can create projects in languages like C#, Python, R, and Node.js. \"\"\";\n",
    "    related_tools = Some \"\"\"Visual Studio Code, RStudio, Juno\"\"\";\n",
    "    notes = Some \"\"\"> [!NOTE]\n",
    "> You might get a message that your evaluation period is expired. Enter your Microsoft account credentials. Or create a new free account to get access to Visual Studio Community.\"\"\"\n",
    "}"
   ]
  },
  {
   "cell_type": "code",
   "execution_count": 19,
   "metadata": {},
   "outputs": [
    {
     "data": {
      "text/plain": [
       "## Visual Studio Community 2019\n",
       "\n",
       "| What is it? | General purpose IDE |\n",
       "| Supported DSVM Versions | Windows |\n",
       "| Typical Uses | Software development |\n",
       "| Related Tools | Visual Studio Code, RStudio, Juno |\n",
       "| How is it configured and installed on the DSVM? | Data Science Workload (Python and R tools), Azure workload (Hadoop, Data Lake), Node.js, SQL Server tools, [Azure Machine Learning for Visual Studio Code](https://github.com/Microsoft/vs-tools-for-ai)  |\n",
       "| How to run and use it | Desktop shortcut (`C:\\Program Files (x86)\\Microsoft Visual Studio\\2019\\Community\\Common7\\IDE\\devenv.exe`). Graphically, open Visual Studio by using the desktop icon or the **Start** menu. Search for programs (Windows logo key+S), followed by **Visual Studio**. From there, you can create projects in languages like C#, Python, R, and Node.js.  |\n",
       "\n",
       "> [!NOTE]\n",
       "> You might get a message that your evaluation period is expired. Enter your Microsoft account credentials. Or create a new free account to get access to Visual Studio Community."
      ]
     },
     "execution_count": 19,
     "metadata": {},
     "output_type": "execute_result"
    }
   ],
   "source": [
    "to_m vs"
   ]
  },
  {
   "cell_type": "markdown",
   "metadata": {},
   "source": [
    "## Data Platforms"
   ]
  },
  {
   "cell_type": "code",
   "execution_count": 20,
   "metadata": {},
   "outputs": [
    {
     "ename": "Unhandled Exception",
     "evalue": "input.fsx (4,5)-(4,12) typecheck error The record label 'distros' is not defined.",
     "output_type": "error",
     "traceback": [
      "input.fsx (4,5)-(4,12) typecheck error The record label 'distros' is not defined."
     ]
    }
   ],
   "source": [
    "let ss = { \n",
    "    name = \"SQL Server 2019\";\n",
    "    category = DataPlatforms;\n",
    "    distros = [ { vm = Windows2016; version = \"Developer Edition\" } ]; \n",
    "    installation = None;\n",
    "    sample_link = None;\n",
    "    related_tools = [];\n",
    "    description = \n",
    "        Some \"\"\"\n",
    "### Setup\n",
    "\n",
    "The database server is already preconfigured and the Windows services related to SQL Server (like `SQL Server (MSSQLSERVER)`) are set to run automatically. The only manual step involves enabling In-database analytics by using Microsoft Machine Learning Server. You can enable analytics by running the following command as a one-time action in SQL Server Management Studio (SSMS). Run this command after you log in as the machine administrator, open a new query in SSMS, and make sure the selected database is `master`:\n",
    "\n",
    "        CREATE LOGIN [%COMPUTERNAME%\\SQLRUserGroup] FROM WINDOWS \n",
    "\n",
    "        (Replace %COMPUTERNAME% with your VM name.)\n",
    "       \n",
    "To run SQL Server Management Studio, you can search for \"SQL Server Management Studio\" on the program list, or use Windows Search to find and run it. When prompted for credentials, select **Windows Authentication** and use the machine name or ```localhost``` in the **SQL Server Name** field.\n",
    "\n",
    "### How to use and run it\n",
    "\n",
    "By default, the database server with the default database instance runs automatically. You can use tools like SQL Server Management Studio on the VM to access the SQL Server database locally. Local administrator accounts have admin access on the database.\n",
    "\n",
    "Also, the DSVM comes with ODBC and JDBC drivers to talk to SQL Server, Azure SQL databases, and Azure SQL Data Warehouse from applications written in multiple languages, including Python and Machine Learning Server.\n",
    "\n",
    "### How is it configured and installed on the DSVM? \n",
    "\n",
    " SQL Server is installed in the standard way. It can be found at `C:\\Program Files\\Microsoft SQL Server`. The In-database Machine Learning Server instance is found at `C:\\Program Files\\Microsoft SQL Server\\MSSQL13.MSSQLSERVER\\R_SERVICES`. The DSVM also has a separate standalone Machine Learning Server instance, which is installed at `C:\\Program Files\\Microsoft\\R Server\\R_SERVER`. These two Machine Learning Server instances don't share libraries.}\"\"\"\n",
    " }"
   ]
  },
  {
   "cell_type": "code",
   "execution_count": 21,
   "metadata": {},
   "outputs": [
    {
     "ename": "Unhandled Exception",
     "evalue": "input.fsx (4,5)-(4,12) typecheck error The record label 'distros' is not defined.",
     "output_type": "error",
     "traceback": [
      "input.fsx (4,5)-(4,12) typecheck error The record label 'distros' is not defined."
     ]
    }
   ],
   "source": [
    "let sprk = {\n",
    "    name = \"Apache Spark\";\n",
    "    category = DataPlatforms;\n",
    "    distros = [ { vm = Linux2016; version = \"2.x (Standalone)\" } ]; \n",
    "    installation = None;\n",
    "    sample_link = None;\n",
    "    related_tools = [];\n",
    "    description = \n",
    "        Some \"\"\"\n",
    "### How to use it\n",
    "You can submit Spark jobs on the command line by running the `spark-submit` or `pyspark` command. You can also create a Jupyter notebook by creating a new notebook with the Spark kernel.\n",
    "\n",
    "You can use Spark from R by using libraries like SparkR, Sparklyr, and Microsoft Machine Learning Server, which are available on the DSVM. See pointers to samples in the preceding table.\n",
    "\n",
    "### Setup\n",
    "Before running in a Spark context in Microsoft Machine Learning Server on Ubuntu Linux DSVM edition, you must complete a one-time setup step to enable a local single node Hadoop HDFS and Yarn instance. By default, Hadoop services are installed but disabled on the DSVM. To enable them, run the following commands as root the first time:\n",
    "\n",
    "    echo -e 'y\\n' | ssh-keygen -t rsa -P '' -f ~hadoop/.ssh/id_rsa\n",
    "    cat ~hadoop/.ssh/id_rsa.pub >> ~hadoop/.ssh/authorized_keys\n",
    "    chmod 0600 ~hadoop/.ssh/authorized_keys\n",
    "    chown hadoop:hadoop ~hadoop/.ssh/id_rsa\n",
    "    chown hadoop:hadoop ~hadoop/.ssh/id_rsa.pub\n",
    "    chown hadoop:hadoop ~hadoop/.ssh/authorized_keys\n",
    "    systemctl start hadoop-namenode hadoop-datanode hadoop-yarn\n",
    "\n",
    "You can stop the Hadoop-related services when you no longer need them by running ```systemctl stop hadoop-namenode hadoop-datanode hadoop-yarn```.\n",
    "\n",
    "A sample that demonstrates how to develop and test MRS in a remote Spark context (which is the standalone Spark instance on the DSVM) is provided and available in the `/dsvm/samples/MRS` directory.\n",
    "\n",
    "\n",
    "### How is it configured and installed on the DSVM? \n",
    "|Platform|Install Location ($SPARK_HOME)|\n",
    "|:--------|:--------|\n",
    "|Linux   | /dsvm/tools/spark-X.X.X-bin-hadoopX.X|\n",
    "\n",
    "\n",
    "Libraries to access data from Azure Blob storage or Azure Data Lake Storage, using the Microsoft MMLSpark machine-learning libraries, are preinstalled in $SPARK_HOME/jars. These JARs are automatically loaded when Spark starts up. By default, Spark uses data on the local disk. \n",
    "\n",
    "For the Spark instance on the DSVM to access data stored in Blob storage or Azure Data Lake Storage, you must create and configure the `core-site.xml` file based on the template found in $SPARK_HOME/conf/core-site.xml.template. You must also have the appropriate credentials to access Blob storage and Azure Data Lake Storage. (Note that the template files use placeholders for Blob storage and Azure Data Lake Storage configurations.)\n",
    "\n",
    "For more detailed info about creating Azure Data Lake Storage service credentials, see [Authentication with Azure Data Lake Storage Gen1](https://docs.microsoft.com/azure/data-lake-store/data-lake-store-authenticate-using-active-directory). After the credentials for Blob storage or Azure Data Lake Storage are entered in the core-site.xml file, you can reference the data stored in those sources through the URI prefix of wasb:// or adl://.\n",
    "\n",
    "\"\"\"\n",
    "}"
   ]
  },
  {
   "cell_type": "code",
   "execution_count": 22,
   "metadata": {},
   "outputs": [
    {
     "ename": "Unhandled Exception",
     "evalue": "input.fsx (1,12)-(1,14) typecheck error The value or constructor 'ss' is not defined.\ninput.fsx (1,16)-(1,20) typecheck error The value or constructor 'sprk' is not defined. Maybe you want one of the following:\n   sprintf\n   pre",
     "output_type": "error",
     "traceback": [
      "input.fsx (1,12)-(1,14) typecheck error The value or constructor 'ss' is not defined.\ninput.fsx (1,16)-(1,20) typecheck error The value or constructor 'sprk' is not defined. Maybe you want one of the following:\n   sprintf\n   pre"
     ]
    }
   ],
   "source": [
    "let dps = [ss; sprk]"
   ]
  },
  {
   "cell_type": "code",
   "execution_count": 23,
   "metadata": {},
   "outputs": [
    {
     "ename": "Unhandled Exception",
     "evalue": "input.fsx (9,33)-(9,39) typecheck error The type 'Distro' is not defined.\ninput.fsx (10,34)-(10,40) typecheck error The type 'Distro' is not defined.\ninput.fsx (17,41)-(17,53) typecheck error The type 'Installation' is not defined.\ninput.fsx (20,33)-(20,37) typecheck error The type 'Link' is not defined. Maybe you want one of the following:\n   Line\n   int\ninput.fsx (21,28)-(21,36) typecheck error The type 'Relateds' is not defined.\ninput.fsx (9,33)-(9,39) typecheck error The type 'Distro' is not defined.\ninput.fsx (9,76)-(9,85) typecheck error Lookup on object of indeterminate type based on information prior to this program point. A type annotation may be needed prior to this program point to constrain the type of the object. This may allow the lookup to be resolved.\ninput.fsx (9,62)-(9,85) typecheck error A unique overload for method 'to_s' could not be determined based on type information prior to this program point. A type annotation may be needed. Candidates: static member Markdown.to_s : distro:'a -> string, static member Markdown.to_s : distros:'a -> 'b, static member Markdown.to_s : rs:'a -> 'b, static member Markdown.to_s : vm:VirtualMachine -> string\ninput.fsx (10,34)-(10,40) typecheck error The type 'Distro' is not defined.\ninput.fsx (11,15)-(11,29) typecheck error Lookup on object of indeterminate type based on information prior to this program point. A type annotation may be needed prior to this program point to constrain the type of the object. This may allow the lookup to be resolved.\ninput.fsx (15,35)-(15,50) typecheck error A unique overload for method 'to_s' could not be determined based on type information prior to this program point. A type annotation may be needed. Candidates: static member Markdown.to_s : distro:tool -> string, static member Markdown.to_s : rs:'a -> 'b, static member Markdown.to_s : vm:VirtualMachine -> string\ninput.fsx (17,41)-(17,53) typecheck error The type 'Installation' is not defined.\ninput.fsx (18,39)-(18,62) typecheck error Type mismatch. Expecting a\n    'string -> 'b option'    \nbut given a\n    'string -> string'    \nThe type ''b option' does not match the type 'string'\ninput.fsx (20,33)-(20,37) typecheck error The type 'Link' is not defined. Maybe you want one of the following:\n   Line\n   int\ninput.fsx (21,28)-(21,36) typecheck error The type 'Relateds' is not defined.\ninput.fsx (22,15)-(22,24) typecheck error Lookup on object of indeterminate type based on information prior to this program point. A type annotation may be needed prior to this program point to constrain the type of the object. This may allow the lookup to be resolved.",
     "output_type": "error",
     "traceback": [
      "input.fsx (9,33)-(9,39) typecheck error The type 'Distro' is not defined.\ninput.fsx (10,34)-(10,40) typecheck error The type 'Distro' is not defined.\ninput.fsx (17,41)-(17,53) typecheck error The type 'Installation' is not defined.\ninput.fsx (20,33)-(20,37) typecheck error The type 'Link' is not defined. Maybe you want one of the following:\n   Line\n   int\ninput.fsx (21,28)-(21,36) typecheck error The type 'Relateds' is not defined.\ninput.fsx (9,33)-(9,39) typecheck error The type 'Distro' is not defined.\ninput.fsx (9,76)-(9,85) typecheck error Lookup on object of indeterminate type based on information prior to this program point. A type annotation may be needed prior to this program point to constrain the type of the object. This may allow the lookup to be resolved.\ninput.fsx (9,62)-(9,85) typecheck error A unique overload for method 'to_s' could not be determined based on type information prior to this program point. A type annotation may be needed. Candidates: static member Markdown.to_s : distro:'a -> string, static member Markdown.to_s : distros:'a -> 'b, static member Markdown.to_s : rs:'a -> 'b, static member Markdown.to_s : vm:VirtualMachine -> string\ninput.fsx (10,34)-(10,40) typecheck error The type 'Distro' is not defined.\ninput.fsx (11,15)-(11,29) typecheck error Lookup on object of indeterminate type based on information prior to this program point. A type annotation may be needed prior to this program point to constrain the type of the object. This may allow the lookup to be resolved.\ninput.fsx (15,35)-(15,50) typecheck error A unique overload for method 'to_s' could not be determined based on type information prior to this program point. A type annotation may be needed. Candidates: static member Markdown.to_s : distro:tool -> string, static member Markdown.to_s : rs:'a -> 'b, static member Markdown.to_s : vm:VirtualMachine -> string\ninput.fsx (17,41)-(17,53) typecheck error The type 'Installation' is not defined.\ninput.fsx (18,39)-(18,62) typecheck error Type mismatch. Expecting a\n    'string -> 'b option'    \nbut given a\n    'string -> string'    \nThe type ''b option' does not match the type 'string'\ninput.fsx (20,33)-(20,37) typecheck error The type 'Link' is not defined. Maybe you want one of the following:\n   Line\n   int\ninput.fsx (21,28)-(21,36) typecheck error The type 'Relateds' is not defined.\ninput.fsx (22,15)-(22,24) typecheck error Lookup on object of indeterminate type based on information prior to this program point. A type annotation may be needed prior to this program point to constrain the type of the object. This may allow the lookup to be resolved."
     ]
    }
   ],
   "source": [
    "type Markdown =\n",
    "    static member name_to_s(name : string) = sprintf \"## %s\" name\n",
    "    static member to_s(vm : VirtualMachine) = \n",
    "        match vm with \n",
    "        | Windows2016 -> \"Windows 2016\"\n",
    "        | Linux2016 -> \"Linux 2016\"\n",
    "        | Windows2019 -> \"Windows 2019 (Preview)\"\n",
    "        | Linux18 -> \"Ubuntu 18.04 (Preview)\"\n",
    "    static member to_s(distro : Distro) = sprintf \"%s (%s)\" (Markdown.to_s distro.vm) distro.version\n",
    "    static member to_s(distros : Distro list) =\n",
    "        match distros.Length with \n",
    "        | 0 -> \"\"\n",
    "        | _ -> \n",
    "            distros \n",
    "            |> List.map (fun d -> Markdown.to_s d) \n",
    "            |> String.concat \",\"\n",
    "    static member installation_to_s(s : Installation option) = \n",
    "        Option.bind (fun s -> sprintf \"| Installation | %s |\" s)\n",
    "        |> Some\n",
    "    static member link_to_s(s : Link) = sprintf \"| Samples | %s | \" s\n",
    "    static member to_s(rs: Relateds) = \n",
    "        match rs.Length with \n",
    "        | 0 -> \"\" \n",
    "        | _ -> rs |> String.concat \",\"\n",
    "    \n",
    "    "
   ]
  },
  {
   "cell_type": "code",
   "execution_count": 24,
   "metadata": {},
   "outputs": [
    {
     "ename": "Unhandled Exception",
     "evalue": "input.fsx (1,1)-(1,4) typecheck error The value or constructor 'dps' is not defined.\ninput.fsx (1,1)-(1,8) typecheck error The operator 'expr.[idx]' has been used on an object of indeterminate type based on information prior to this program point. Consider adding further type constraints\ninput.fsx (1,20)-(1,28) typecheck error The value, namespace, type or module 'Markdown' is not defined. Maybe you want one of the following:\n   Marker",
     "output_type": "error",
     "traceback": [
      "input.fsx (1,1)-(1,4) typecheck error The value or constructor 'dps' is not defined.\ninput.fsx (1,1)-(1,8) typecheck error The operator 'expr.[idx]' has been used on an object of indeterminate type based on information prior to this program point. Consider adding further type constraints\ninput.fsx (1,20)-(1,28) typecheck error The value, namespace, type or module 'Markdown' is not defined. Maybe you want one of the following:\n   Marker"
     ]
    }
   ],
   "source": [
    "dps.[0].distros |> Markdown.to_s"
   ]
  },
  {
   "cell_type": "code",
   "execution_count": 25,
   "metadata": {},
   "outputs": [
    {
     "ename": "Unhandled Exception",
     "evalue": "input.fsx (1,14)-(1,18) typecheck error The type 'Tool' is not defined. Maybe you want one of the following:\n   tool\n   bool\ninput.fsx (3,9)-(3,17) typecheck error The value, namespace, type or module 'Markdown' is not defined. Maybe you want one of the following:\n   Marker\ninput.fsx (4,9)-(4,17) typecheck error The value, namespace, type or module 'Markdown' is not defined. Maybe you want one of the following:\n   Marker\ninput.fsx (5,9)-(5,17) typecheck error The value, namespace, type or module 'Markdown' is not defined. Maybe you want one of the following:\n   Marker\ninput.fsx (8,6)-(8,8) typecheck error The value or constructor 'ss' is not defined.",
     "output_type": "error",
     "traceback": [
      "input.fsx (1,14)-(1,18) typecheck error The type 'Tool' is not defined. Maybe you want one of the following:\n   tool\n   bool\ninput.fsx (3,9)-(3,17) typecheck error The value, namespace, type or module 'Markdown' is not defined. Maybe you want one of the following:\n   Marker\ninput.fsx (4,9)-(4,17) typecheck error The value, namespace, type or module 'Markdown' is not defined. Maybe you want one of the following:\n   Marker\ninput.fsx (5,9)-(5,17) typecheck error The value, namespace, type or module 'Markdown' is not defined. Maybe you want one of the following:\n   Marker\ninput.fsx (8,6)-(8,8) typecheck error The value or constructor 'ss' is not defined."
     ]
    }
   ],
   "source": [
    "let to_s(t : Tool) = \n",
    "    [\n",
    "        Markdown.name_to_s t.name;\n",
    "        Markdown.to_s t.distros;\n",
    "        Markdown.installation_to_s t.installation\n",
    "    ]\n",
    "    |> String.concat \"\\n\"\n",
    "to_s ss"
   ]
  },
  {
   "cell_type": "code",
   "execution_count": 26,
   "metadata": {},
   "outputs": [
    {
     "ename": "Unhandled Exception",
     "evalue": "input.fsx (1,22)-(1,23) parse error Unexpected symbol ']' in expression. Expected '|]' or other token.\ninput.fsx (1,19)-(1,21) parse error Unmatched '[|'",
     "output_type": "error",
     "traceback": [
      "input.fsx (1,22)-(1,23) parse error Unexpected symbol ']' in expression. Expected '|]' or other token.\ninput.fsx (1,19)-(1,21) parse error Unmatched '[|'"
     ]
    }
   ],
   "source": [
    "String.concat \",\" [| ]"
   ]
  },
  {
   "cell_type": "code",
   "execution_count": null,
   "metadata": {},
   "outputs": [],
   "source": []
  }
 ],
 "metadata": {
  "kernelspec": {
   "display_name": ".NET (F#)",
   "language": "F#",
   "name": ".net-fsharp"
  },
  "language_info": {
   "file_extension": ".fs",
   "mimetype": "text/x-fsharp",
   "name": "C#",
   "pygments_lexer": "fsharp",
   "version": "4.5"
  }
 },
 "nbformat": 4,
 "nbformat_minor": 2
}
